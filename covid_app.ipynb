{
 "cells": [
  {
   "cell_type": "markdown",
   "metadata": {},
   "source": [
    "## India Covid APP"
   ]
  },
  {
   "cell_type": "code",
   "execution_count": 2,
   "metadata": {},
   "outputs": [],
   "source": [
    "import json\n",
    "import os.path\n",
    "import re\n",
    "import urllib.request\n",
    "from datetime import date, datetime, timedelta\n",
    "import dash\n",
    "import dash_bootstrap_components as dbc\n",
    "import dash_core_components as dcc\n",
    "import dash_html_components as html\n",
    "import dash_table\n",
    "import numpy as np\n",
    "from flask import Markup\n",
    "from plotly.offline import plot\n",
    "import pandas as pd\n",
    "import plotly\n",
    "import plotly.express as px\n",
    "import plotly.graph_objects as go\n",
    "import requests\n",
    "from bs4 import BeautifulSoup\n",
    "from flask import Flask, render_template\n",
    "from flask import Markup"
   ]
  },
  {
   "cell_type": "code",
   "execution_count": 83,
   "metadata": {},
   "outputs": [],
   "source": [
    "world_df_time = pd.read_csv('https://raw.githubusercontent.com/CSSEGISandData/COVID-19/master/csse_covid_19_data/csse_covid_19_time_series/time_series_covid19_confirmed_global.csv',\n",
    "                           error_bad_lines=False)"
   ]
  },
  {
   "cell_type": "code",
   "execution_count": 84,
   "metadata": {},
   "outputs": [],
   "source": [
    "world_df_time = world_df_time.groupby('Country/Region').sum()"
   ]
  },
  {
   "cell_type": "code",
   "execution_count": 85,
   "metadata": {},
   "outputs": [],
   "source": [
    "world_df_time = world_df_time.reset_index()"
   ]
  },
  {
   "cell_type": "code",
   "execution_count": 86,
   "metadata": {},
   "outputs": [
    {
     "data": {
      "text/plain": [
       "['22/01/2020',\n",
       " '23/01/2020',\n",
       " '24/01/2020',\n",
       " '25/01/2020',\n",
       " '26/01/2020',\n",
       " '27/01/2020',\n",
       " '28/01/2020',\n",
       " '29/01/2020',\n",
       " '30/01/2020',\n",
       " '31/01/2020',\n",
       " '01/02/2020',\n",
       " '02/02/2020',\n",
       " '03/02/2020',\n",
       " '04/02/2020',\n",
       " '05/02/2020',\n",
       " '06/02/2020',\n",
       " '07/02/2020',\n",
       " '08/02/2020',\n",
       " '09/02/2020',\n",
       " '10/02/2020',\n",
       " '11/02/2020',\n",
       " '12/02/2020',\n",
       " '13/02/2020',\n",
       " '14/02/2020',\n",
       " '15/02/2020',\n",
       " '16/02/2020',\n",
       " '17/02/2020',\n",
       " '18/02/2020',\n",
       " '19/02/2020',\n",
       " '20/02/2020',\n",
       " '21/02/2020',\n",
       " '22/02/2020',\n",
       " '23/02/2020',\n",
       " '24/02/2020',\n",
       " '25/02/2020',\n",
       " '26/02/2020',\n",
       " '27/02/2020',\n",
       " '28/02/2020',\n",
       " '29/02/2020',\n",
       " '01/03/2020',\n",
       " '02/03/2020',\n",
       " '03/03/2020',\n",
       " '04/03/2020',\n",
       " '05/03/2020',\n",
       " '06/03/2020',\n",
       " '07/03/2020',\n",
       " '08/03/2020',\n",
       " '09/03/2020',\n",
       " '10/03/2020',\n",
       " '11/03/2020',\n",
       " '12/03/2020',\n",
       " '13/03/2020',\n",
       " '14/03/2020',\n",
       " '15/03/2020',\n",
       " '16/03/2020',\n",
       " '17/03/2020',\n",
       " '18/03/2020',\n",
       " '19/03/2020',\n",
       " '20/03/2020',\n",
       " '21/03/2020',\n",
       " '22/03/2020',\n",
       " '23/03/2020',\n",
       " '24/03/2020',\n",
       " '25/03/2020',\n",
       " '26/03/2020',\n",
       " '27/03/2020',\n",
       " '28/03/2020',\n",
       " '29/03/2020',\n",
       " '30/03/2020',\n",
       " '31/03/2020',\n",
       " '01/04/2020',\n",
       " '02/04/2020',\n",
       " '03/04/2020',\n",
       " '04/04/2020',\n",
       " '05/04/2020',\n",
       " '06/04/2020',\n",
       " '07/04/2020',\n",
       " '08/04/2020',\n",
       " '09/04/2020',\n",
       " '10/04/2020',\n",
       " '11/04/2020',\n",
       " '12/04/2020',\n",
       " '13/04/2020',\n",
       " '14/04/2020',\n",
       " '15/04/2020',\n",
       " '16/04/2020',\n",
       " '17/04/2020',\n",
       " '18/04/2020',\n",
       " '19/04/2020',\n",
       " '20/04/2020',\n",
       " '21/04/2020',\n",
       " '22/04/2020',\n",
       " '23/04/2020',\n",
       " '24/04/2020',\n",
       " '25/04/2020',\n",
       " '26/04/2020',\n",
       " '27/04/2020',\n",
       " '28/04/2020',\n",
       " '29/04/2020',\n",
       " '30/04/2020',\n",
       " '01/05/2020',\n",
       " '02/05/2020',\n",
       " '03/05/2020',\n",
       " '04/05/2020',\n",
       " '05/05/2020',\n",
       " '06/05/2020',\n",
       " '07/05/2020',\n",
       " '08/05/2020',\n",
       " '09/05/2020',\n",
       " '10/05/2020',\n",
       " '11/05/2020',\n",
       " '12/05/2020',\n",
       " '13/05/2020',\n",
       " '14/05/2020',\n",
       " '15/05/2020',\n",
       " '16/05/2020',\n",
       " '17/05/2020',\n",
       " '18/05/2020',\n",
       " '19/05/2020',\n",
       " '20/05/2020',\n",
       " '21/05/2020',\n",
       " '22/05/2020',\n",
       " '23/05/2020',\n",
       " '24/05/2020',\n",
       " '25/05/2020',\n",
       " '26/05/2020',\n",
       " '27/05/2020',\n",
       " '28/05/2020',\n",
       " '29/05/2020',\n",
       " '30/05/2020',\n",
       " '31/05/2020',\n",
       " '01/06/2020',\n",
       " '02/06/2020',\n",
       " '03/06/2020',\n",
       " '04/06/2020',\n",
       " '05/06/2020',\n",
       " '06/06/2020',\n",
       " '07/06/2020',\n",
       " '08/06/2020',\n",
       " '09/06/2020',\n",
       " '10/06/2020',\n",
       " '11/06/2020',\n",
       " '12/06/2020',\n",
       " '13/06/2020',\n",
       " '14/06/2020',\n",
       " '15/06/2020',\n",
       " '16/06/2020',\n",
       " '17/06/2020',\n",
       " '18/06/2020',\n",
       " '19/06/2020',\n",
       " '20/06/2020',\n",
       " '21/06/2020',\n",
       " '22/06/2020',\n",
       " '23/06/2020',\n",
       " '24/06/2020',\n",
       " '25/06/2020',\n",
       " '26/06/2020',\n",
       " '27/06/2020',\n",
       " '28/06/2020',\n",
       " '29/06/2020',\n",
       " '30/06/2020',\n",
       " '01/07/2020',\n",
       " '02/07/2020',\n",
       " '03/07/2020',\n",
       " '04/07/2020',\n",
       " '05/07/2020',\n",
       " '06/07/2020',\n",
       " '07/07/2020',\n",
       " '08/07/2020',\n",
       " '09/07/2020',\n",
       " '10/07/2020',\n",
       " '11/07/2020',\n",
       " '12/07/2020',\n",
       " '13/07/2020',\n",
       " '14/07/2020',\n",
       " '15/07/2020',\n",
       " '16/07/2020',\n",
       " '17/07/2020',\n",
       " '18/07/2020',\n",
       " '19/07/2020',\n",
       " '20/07/2020',\n",
       " '21/07/2020',\n",
       " '22/07/2020',\n",
       " '23/07/2020',\n",
       " '24/07/2020',\n",
       " '25/07/2020',\n",
       " '26/07/2020',\n",
       " '27/07/2020',\n",
       " '28/07/2020',\n",
       " '29/07/2020',\n",
       " '30/07/2020',\n",
       " '31/07/2020',\n",
       " '01/08/2020',\n",
       " '02/08/2020',\n",
       " '03/08/2020',\n",
       " '04/08/2020',\n",
       " '05/08/2020',\n",
       " '06/08/2020',\n",
       " '07/08/2020',\n",
       " '08/08/2020',\n",
       " '09/08/2020',\n",
       " '10/08/2020',\n",
       " '11/08/2020',\n",
       " '12/08/2020',\n",
       " '13/08/2020',\n",
       " '14/08/2020',\n",
       " '15/08/2020',\n",
       " '16/08/2020',\n",
       " '17/08/2020',\n",
       " '18/08/2020',\n",
       " '19/08/2020',\n",
       " '20/08/2020',\n",
       " '21/08/2020',\n",
       " '22/08/2020',\n",
       " '23/08/2020',\n",
       " '24/08/2020',\n",
       " '25/08/2020',\n",
       " '26/08/2020',\n",
       " '27/08/2020',\n",
       " '28/08/2020',\n",
       " '29/08/2020',\n",
       " '30/08/2020',\n",
       " '31/08/2020',\n",
       " '01/09/2020',\n",
       " '02/09/2020',\n",
       " '03/09/2020',\n",
       " '04/09/2020',\n",
       " '05/09/2020',\n",
       " '06/09/2020',\n",
       " '07/09/2020',\n",
       " '08/09/2020',\n",
       " '09/09/2020',\n",
       " '10/09/2020',\n",
       " '11/09/2020',\n",
       " '12/09/2020',\n",
       " '13/09/2020',\n",
       " '14/09/2020',\n",
       " '15/09/2020',\n",
       " '16/09/2020',\n",
       " '17/09/2020',\n",
       " '18/09/2020',\n",
       " '19/09/2020',\n",
       " '20/09/2020',\n",
       " '21/09/2020',\n",
       " '22/09/2020',\n",
       " '23/09/2020',\n",
       " '24/09/2020',\n",
       " '25/09/2020',\n",
       " '26/09/2020',\n",
       " '27/09/2020',\n",
       " '28/09/2020',\n",
       " '29/09/2020',\n",
       " '30/09/2020',\n",
       " '01/10/2020']"
      ]
     },
     "execution_count": 86,
     "metadata": {},
     "output_type": "execute_result"
    }
   ],
   "source": [
    "pd.to_datetime(world_df_time.columns[3:]).strftime('%d/%m/%Y').tolist()"
   ]
  },
  {
   "cell_type": "code",
   "execution_count": 90,
   "metadata": {},
   "outputs": [
    {
     "data": {
      "text/plain": [
       "5606.382049999993"
      ]
     },
     "execution_count": 90,
     "metadata": {},
     "output_type": "execute_result"
    }
   ],
   "source": [
    "sum(world_df_time['Lat'])"
   ]
  },
  {
   "cell_type": "code",
   "execution_count": 60,
   "metadata": {},
   "outputs": [
    {
     "data": {
      "text/plain": [
       "[1, 31, 61, 91, 121, 151, 181, 211, 241]"
      ]
     },
     "execution_count": 60,
     "metadata": {},
     "output_type": "execute_result"
    }
   ],
   "source": [
    "list(range(1,int((datetime.strptime('01/10/2020','%d/%m/%Y') - datetime.strptime('22/01/2020','%d/%m/%Y')).days),30))"
   ]
  },
  {
   "cell_type": "code",
   "execution_count": 32,
   "metadata": {},
   "outputs": [],
   "source": [
    "def exponenial_func_two(x, a = 1/np.sqrt(2), b = np.sqrt(2)):\n",
    "    return a * (b**x)"
   ]
  },
  {
   "cell_type": "code",
   "execution_count": 9,
   "metadata": {},
   "outputs": [
    {
     "name": "stderr",
     "output_type": "stream",
     "text": [
      "<ipython-input-3-dc5f288d85ac>:2: RuntimeWarning:\n",
      "\n",
      "overflow encountered in power\n",
      "\n"
     ]
    },
    {
     "data": {
      "text/plain": [
       "array([ 1., inf, inf, inf, inf, inf, inf, inf, inf])"
      ]
     },
     "execution_count": 9,
     "metadata": {},
     "output_type": "execute_result"
    }
   ],
   "source": [
    "max_confirmed = 8000000\n",
    "step = 10\n",
    "y_two = exponenial_func_two(x)\n",
    "y_two"
   ]
  },
  {
   "cell_type": "code",
   "execution_count": 33,
   "metadata": {},
   "outputs": [],
   "source": [
    "max_confirmed = 7230000\n",
    "step = 10"
   ]
  },
  {
   "cell_type": "code",
   "execution_count": 43,
   "metadata": {},
   "outputs": [],
   "source": [
    "a = 1/np.sqrt(2)\n",
    "b = np.sqrt(2)\n",
    "max_x = np.log10(max_confirmed/1/np.sqrt(2)) / np.log10(np.sqrt(2))\n",
    "x_two = list(range(1, int(max_x) + step, step))\n",
    "y_two = exponenial_func_two(np.array(x_two))"
   ]
  },
  {
   "cell_type": "code",
   "execution_count": 38,
   "metadata": {},
   "outputs": [
    {
     "data": {
      "text/plain": [
       "49.0"
      ]
     },
     "execution_count": 38,
     "metadata": {},
     "output_type": "execute_result"
    }
   ],
   "source": [
    "max_confirmed = 33554432.00000011\n",
    "np.log(max_confirmed/1/np.sqrt(2)) / np.log(np.sqrt(2))"
   ]
  },
  {
   "cell_type": "code",
   "execution_count": 50,
   "metadata": {},
   "outputs": [
    {
     "data": {
      "text/plain": [
       "array([1.00000000e+00, 1.41421356e+00, 2.00000000e+00, 2.82842712e+00,\n",
       "       4.00000000e+00, 5.65685425e+00, 8.00000000e+00, 1.13137085e+01,\n",
       "       1.60000000e+01, 2.26274170e+01, 3.20000000e+01, 4.52548340e+01,\n",
       "       6.40000000e+01, 9.05096680e+01, 1.28000000e+02, 1.81019336e+02,\n",
       "       2.56000000e+02, 3.62038672e+02, 5.12000000e+02, 7.24077344e+02,\n",
       "       1.02400000e+03, 1.44815469e+03, 2.04800000e+03, 2.89630938e+03,\n",
       "       4.09600000e+03, 5.79261875e+03, 8.19200000e+03, 1.15852375e+04,\n",
       "       1.63840000e+04, 2.31704750e+04, 3.27680000e+04, 4.63409500e+04,\n",
       "       6.55360000e+04, 9.26819000e+04, 1.31072000e+05, 1.85363800e+05,\n",
       "       2.62144000e+05, 3.70727600e+05, 5.24288000e+05, 7.41455200e+05,\n",
       "       1.04857600e+06, 1.48291040e+06, 2.09715200e+06, 2.96582080e+06,\n",
       "       4.19430400e+06, 5.93164160e+06, 8.38860800e+06])"
      ]
     },
     "execution_count": 50,
     "metadata": {},
     "output_type": "execute_result"
    }
   ],
   "source": [
    "a = exponenial_func_two(np.arange(1,252,1))\n",
    "a[a<9000000]"
   ]
  },
  {
   "cell_type": "code",
   "execution_count": 51,
   "metadata": {},
   "outputs": [],
   "source": [
    "countries = ['US']\n",
    "\n",
    "def prepare_world_timeseries():\n",
    "\n",
    "\tglobal countries\n",
    "\tobject = dict()\n",
    "\n",
    "\tworld_df_time_c = pd.read_csv(\n",
    "\t\t'https://raw.githubusercontent.com/CSSEGISandData/COVID-19/master/csse_covid_19_data/csse_covid_19_time_series/time_series_covid19_confirmed_global.csv',\n",
    "\t\terror_bad_lines=False)\n",
    "\tworld_df_time_c = world_df_time_c.groupby('Country/Region').sum()\n",
    "\tworld_df_time_c = world_df_time_c.reset_index()\n",
    "\tworld_dates = pd.to_datetime(world_df_time_c.columns[3:]).strftime('%d/%m/%Y').tolist()\n",
    "\n",
    "\tworld_df_time_d = pd.read_csv(\n",
    "\t\t'https://raw.githubusercontent.com/CSSEGISandData/COVID-19/master/csse_covid_19_data/csse_covid_19_time_series/time_series_covid19_deaths_global.csv',\n",
    "\t\terror_bad_lines=False)\n",
    "\tworld_df_time_d = world_df_time_d.groupby('Country/Region').sum()\n",
    "\tworld_df_time_d = world_df_time_d.reset_index()\n",
    "\n",
    "\tworld_df_time_r = pd.read_csv(\n",
    "\t\t'https://raw.githubusercontent.com/CSSEGISandData/COVID-19/master/csse_covid_19_data/csse_covid_19_time_series/time_series_covid19_recovered_global.csv',\n",
    "\t\terror_bad_lines=False)\n",
    "\tworld_df_time_r = world_df_time_r.groupby('Country/Region').sum()\n",
    "\tworld_df_time_r = world_df_time_r.reset_index()\n",
    "\n",
    "\tfor c in countries:\n",
    "\t\tworld_confirmed = world_df_time_c[world_df_time_c['Country/Region'] == c].values[0][3:].tolist()\n",
    "\t\tworld_deceased = world_df_time_d[world_df_time_d['Country/Region'] == c].values[0][3:].tolist()\n",
    "\t\tworld_recovered = world_df_time_r[world_df_time_r['Country/Region'] == c].values[0][3:].tolist()\n",
    "\n",
    "\t\tworld_mortality = []\n",
    "\n",
    "\t\tfor i,j in zip(world_deceased, world_confirmed):\n",
    "\t\t\tif(j!=0):\n",
    "\t\t\t\tworld_mortality.append(i/j)\n",
    "\t\t\telse:\n",
    "\t\t\t\tworld_mortality.append(0)\n",
    "\n",
    "\n",
    "\t\tobject[c] = {'Confirmed' : world_confirmed,\n",
    "\t\t\t\t\t 'Deceased' : world_deceased,\n",
    "\t\t\t\t\t 'Recovered' : world_recovered,\n",
    "\t\t\t\t\t 'Mortality' : world_mortality}\n",
    "\n",
    "\tobject['Dates'] = world_dates\n",
    "\n",
    "\treturn json.dumps(object, cls=plotly.utils.PlotlyJSONEncoder)\n"
   ]
  },
  {
   "cell_type": "code",
   "execution_count": 53,
   "metadata": {},
   "outputs": [],
   "source": [
    "d = prepare_world_timeseries()"
   ]
  },
  {
   "cell_type": "code",
   "execution_count": 80,
   "metadata": {},
   "outputs": [],
   "source": [
    "def exponenial_func_ten(x, m = 33, c = 0):\n",
    "\treturn m*x + c"
   ]
  },
  {
   "cell_type": "code",
   "execution_count": 81,
   "metadata": {},
   "outputs": [
    {
     "data": {
      "text/plain": [
       "array([  33,   66,   99,  132,  165,  198,  231,  264,  297,  330,  363,\n",
       "        396,  429,  462,  495,  528,  561,  594,  627,  660,  693,  726,\n",
       "        759,  792,  825,  858,  891,  924,  957,  990, 1023, 1056, 1089,\n",
       "       1122, 1155, 1188, 1221, 1254, 1287, 1320, 1353, 1386, 1419, 1452,\n",
       "       1485, 1518, 1551, 1584, 1617, 1650, 1683, 1716, 1749, 1782, 1815,\n",
       "       1848, 1881, 1914, 1947, 1980, 2013, 2046, 2079, 2112, 2145, 2178,\n",
       "       2211, 2244, 2277, 2310, 2343, 2376, 2409, 2442, 2475, 2508, 2541,\n",
       "       2574, 2607, 2640, 2673, 2706, 2739, 2772, 2805, 2838, 2871, 2904,\n",
       "       2937, 2970, 3003, 3036, 3069, 3102, 3135, 3168, 3201, 3234, 3267,\n",
       "       3300, 3333, 3366, 3399, 3432, 3465, 3498, 3531, 3564, 3597, 3630,\n",
       "       3663, 3696, 3729, 3762, 3795, 3828, 3861, 3894, 3927, 3960, 3993,\n",
       "       4026, 4059, 4092, 4125, 4158, 4191, 4224, 4257, 4290, 4323, 4356,\n",
       "       4389, 4422, 4455, 4488, 4521, 4554, 4587, 4620, 4653, 4686, 4719,\n",
       "       4752, 4785, 4818, 4851, 4884, 4917, 4950, 4983, 5016, 5049, 5082,\n",
       "       5115, 5148, 5181, 5214, 5247, 5280, 5313, 5346, 5379, 5412, 5445,\n",
       "       5478, 5511, 5544, 5577, 5610, 5643, 5676, 5709, 5742, 5775, 5808,\n",
       "       5841, 5874, 5907, 5940, 5973, 6006, 6039, 6072, 6105, 6138, 6171,\n",
       "       6204, 6237, 6270, 6303, 6336, 6369, 6402, 6435, 6468, 6501, 6534,\n",
       "       6567, 6600, 6633, 6666, 6699, 6732, 6765, 6798, 6831, 6864, 6897,\n",
       "       6930, 6963, 6996, 7029, 7062, 7095, 7128, 7161, 7194, 7227, 7260,\n",
       "       7293, 7326, 7359, 7392, 7425, 7458, 7491, 7524, 7557, 7590, 7623,\n",
       "       7656, 7689, 7722, 7755, 7788, 7821, 7854, 7887, 7920, 7953, 7986,\n",
       "       8019, 8052, 8085, 8118, 8151, 8184, 8217, 8250, 8283])"
      ]
     },
     "execution_count": 81,
     "metadata": {},
     "output_type": "execute_result"
    }
   ],
   "source": [
    "exponenial_func_ten(np.array(list(range(1,252))))"
   ]
  },
  {
   "cell_type": "code",
   "execution_count": 93,
   "metadata": {},
   "outputs": [
    {
     "data": {
      "text/plain": [
       "array([1.57])"
      ]
     },
     "execution_count": 93,
     "metadata": {},
     "output_type": "execute_result"
    }
   ],
   "source": [
    "np.round(np.array([1.5677]),2)"
   ]
  }
 ],
 "metadata": {
  "kernelspec": {
   "display_name": "Python 3",
   "language": "python",
   "name": "python3"
  },
  "language_info": {
   "codemirror_mode": {
    "name": "ipython",
    "version": 3
   },
   "file_extension": ".py",
   "mimetype": "text/x-python",
   "name": "python",
   "nbconvert_exporter": "python",
   "pygments_lexer": "ipython3",
   "version": "3.8.3"
  }
 },
 "nbformat": 4,
 "nbformat_minor": 4
}
