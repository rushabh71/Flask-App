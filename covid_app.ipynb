{
 "cells": [
  {
   "cell_type": "markdown",
   "metadata": {},
   "source": [
    "## India Covid APP"
   ]
  },
  {
   "cell_type": "code",
   "execution_count": 91,
   "metadata": {},
   "outputs": [],
   "source": [
    "import pandas as pd\n",
    "import numpy as np\n",
    "from flask import Flask, render_template\n",
    "import json\n",
    "import urllib.request\n",
    "from bs4 import BeautifulSoup\n",
    "import requests\n",
    "import re\n",
    "from datetime import datetime, date, timedelta\n",
    "import plotly.express as px\n",
    "import plotly.graph_objects as go\n",
    "import dash_table\n",
    "import os.path\n",
    "import dash\n",
    "import dash_core_components as dcc\n",
    "import plotly\n",
    "import dash_html_components as html\n",
    "import dash_bootstrap_components as dbc"
   ]
  },
  {
   "cell_type": "code",
   "execution_count": null,
   "metadata": {},
   "outputs": [
    {
     "name": "stdout",
     "output_type": "stream",
     "text": [
      " * Serving Flask app \"__main__\" (lazy loading)\n",
      " * Environment: production\n",
      "   WARNING: This is a development server. Do not use it in a production deployment.\n",
      "   Use a production WSGI server instead.\n",
      " * Debug mode: off\n"
     ]
    },
    {
     "name": "stderr",
     "output_type": "stream",
     "text": [
      " * Running on http://127.0.0.1:8001/ (Press CTRL+C to quit)\n",
      "127.0.0.1 - - [23/Sep/2020 14:47:07] \"\u001b[37mGET / HTTP/1.1\u001b[0m\" 200 -\n",
      "127.0.0.1 - - [23/Sep/2020 14:47:07] \"\u001b[37mGET /static/main.css HTTP/1.1\u001b[0m\" 200 -\n",
      "127.0.0.1 - - [23/Sep/2020 14:47:07] \"\u001b[37mGET /static/main.js HTTP/1.1\u001b[0m\" 200 -\n"
     ]
    }
   ],
   "source": [
    "world_df = None;\n",
    "app = Flask(__name__)\n",
    "\n",
    "def prepare_world_data():\n",
    "\tglobal world_df\n",
    "\tdata_date = (date.today() - timedelta(days=1)).strftime('%m-%d-%Y')\n",
    "\tworld_df = pd.read_csv(\n",
    "\t\t'https://raw.githubusercontent.com/CSSEGISandData/COVID-19/master/csse_covid_19_data/csse_covid_19_daily_reports/{}.csv'.format(\n",
    "\t\t\tdata_date))\n",
    "\tworld_df = world_df[['Country_Region', 'Confirmed', 'Deaths', 'Recovered', 'Active']]\n",
    "\tworld_df = world_df.groupby('Country_Region').sum()\n",
    "\tworld_df = world_df.reset_index()\n",
    "\n",
    "def world_heatmap():\n",
    "\tdata = dict(type='choropleth',\n",
    "\t\t\t\tlocations=world_df['Country_Region'],\n",
    "\t\t\t\tlocationmode='country names', z=world_df['Confirmed'],\n",
    "\t\t\t\ttext=world_df['Country_Region'], colorbar={'title': 'Corona Cases'},\n",
    "\t\t\t\tcolorscale=['#55f262', '#f7cb63', '#f25c49'],\n",
    "\t\t\t\treversescale=False)\n",
    "\n",
    "\tlayout = dict(title='World Corona Cases')\n",
    "\n",
    "\tgraphJSON = json.dumps([data,layout], cls=plotly.utils.PlotlyJSONEncoder)\n",
    "\treturn graphJSON\n",
    "\n",
    "\n",
    "@app.route('/')\n",
    "def index():\n",
    "\tprepare_world_data()\n",
    "\treturn render_template('index.html', graphJSON=world_heatmap())\n",
    "\n",
    "\n",
    "if (__name__ == '__main__'):\n",
    "\tapp.run(port=8001)\n"
   ]
  },
  {
   "cell_type": "code",
   "execution_count": null,
   "metadata": {},
   "outputs": [],
   "source": []
  }
 ],
 "metadata": {
  "kernelspec": {
   "display_name": "Python 3",
   "language": "python",
   "name": "python3"
  },
  "language_info": {
   "codemirror_mode": {
    "name": "ipython",
    "version": 3
   },
   "file_extension": ".py",
   "mimetype": "text/x-python",
   "name": "python",
   "nbconvert_exporter": "python",
   "pygments_lexer": "ipython3",
   "version": "3.8.3"
  }
 },
 "nbformat": 4,
 "nbformat_minor": 4
}
